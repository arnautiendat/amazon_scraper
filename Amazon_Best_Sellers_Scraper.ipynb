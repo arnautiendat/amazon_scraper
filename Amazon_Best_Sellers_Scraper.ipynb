{
 "cells": [
  {
   "cell_type": "code",
   "execution_count": 51,
   "metadata": {},
   "outputs": [
    {
     "name": "stdout",
     "output_type": "stream",
     "text": [
      "True\n"
     ]
    }
   ],
   "source": [
    "import requests\n",
    "from bs4 import BeautifulSoup\n",
    "import csv\n",
    "import os\n",
    "\n",
    "#Revisant robots.txt es veu sobre quines pagines no es pot fer scrapping. \n",
    "import urllib.robotparser\n",
    "rp = urllib.robotparser.RobotFileParser()\n",
    "rp.set_url('http://www.nike.com/robots.txt')\n",
    "rp.read()\n",
    "url = 'https://www.amazon.es/gp/bestsellers/books?pf_rd_r=3SGMV0M1FJ0N0CB7MQC0&pf_rd_p=d3259a28-7b77-56ff-ade0-8a02db82407a&pd_rd_r=0c54ad8c-b4d5-4d1a-a3bb-3246e048bdc2&pd_rd_w=m1O3G&pd_rd_wg=ES5Zj&ref_=pd_gw_ri'\n",
    "user_agent = 'wswp'\n",
    "print(rp.can_fetch(user_agent, url))\n",
    "\n",
    "#Es crea l'scrapp\n",
    "\n",
    "page = requests.get(url)\n",
    "soup = BeautifulSoup(page.content)\n",
    "\n",
    "llista_llibres = []\n",
    "\n",
    "# Guardem en la variable llistat el contingut de tots els llibres\n",
    "llistat = soup.find(class_=\"a-ordered-list a-vertical\")\n",
    "\n",
       
    # Recorrem llibre a llibre (aok-inline-block zg-item) buscant les característiques de cada un d'ells. S'Afegeix 
    #la opció NULL en cas de que la característica no estigui documentada.

    for descripcio in llistat.find_all('span', class_="aok-inline-block zg-item"):
    
        nom = (descripcio.find(class_="p13n-sc-truncate").string).strip()
        try:
            autor = descripcio.find(class_="a-row a-size-small").string
        except:
            autor = "NULL"
        try:
            puntuacio = descripcio.find(class_="a-icon-alt").string
        except:
            puntacio = "NULL"
        try:
            num_resenyes = descripcio.find(class_="a-size-small a-link-normal").string
        except: 
            num_resenyes = "NULL"
        try:
            categoria = descripcio.find(class_="a-size-small a-color-secondary").string
        except:
            categoria = "NULL"
        preu = descripcio.find(class_="p13n-sc-price").string
       
    "# Escrivim un fitxer csv amb les dades dels llibres més venuts d'amazon\n",
    "with open('llibres.csv', 'w', newline='') as csvFile:\n",
    "    csvFile.write(\"Nom;Autor;Puntuacio;Num_resenyes;Categoria;Preu\\n\")\n",
    "    for llibre in llista_llibres:\n",
    "        csvFile.write(llibre)\n",
    "        csvFile.write('\\n')\n",
    "\n",
    "        \n"
   ]
  },
  {
   "cell_type": "code",
   "execution_count": null,
   "metadata": {},
   "outputs": [],
   "source": []
  },
  {
   "cell_type": "code",
   "execution_count": null,
   "metadata": {},
   "outputs": [],
   "source": []
  }
 ],
 "metadata": {
  "kernelspec": {
   "display_name": "Python 3",
   "language": "python",
   "name": "python3"
  },
  "language_info": {
   "codemirror_mode": {
    "name": "ipython",
    "version": 3
   },
   "file_extension": ".py",
   "mimetype": "text/x-python",
   "name": "python",
   "nbconvert_exporter": "python",
   "pygments_lexer": "ipython3",
   "version": "3.7.4"
  }
 },
 "nbformat": 4,
 "nbformat_minor": 2
}
